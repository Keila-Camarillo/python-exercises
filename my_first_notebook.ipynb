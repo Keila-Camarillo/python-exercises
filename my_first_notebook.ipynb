{
 "cells": [
  {
   "cell_type": "code",
   "execution_count": 1,
   "id": "a1fa7d38",
   "metadata": {},
   "outputs": [
    {
     "name": "stdout",
     "output_type": "stream",
     "text": [
      "Hello, my name is Keila and this is my first notebook\n"
     ]
    }
   ],
   "source": [
    "print('Hello, my name is Keila and this is my first notebook')"
   ]
  },
  {
   "cell_type": "code",
   "execution_count": 2,
   "id": "209e7e5b",
   "metadata": {},
   "outputs": [
    {
     "name": "stdout",
     "output_type": "stream",
     "text": [
      "Here are three shortcuts I found for Juypter Notebook\n"
     ]
    }
   ],
   "source": [
    "print('Here are three shortcuts I found for Juypter Notebook')"
   ]
  },
  {
   "cell_type": "code",
   "execution_count": 3,
   "id": "0c9cd385",
   "metadata": {},
   "outputs": [
    {
     "name": "stdout",
     "output_type": "stream",
     "text": [
      "1. alt + enter will run the current cell, and insert a new cell below\n"
     ]
    }
   ],
   "source": [
    "print('1. alt + enter will run the current cell, and insert a new cell below)"
   ]
  },
  {
   "cell_type": "code",
   "execution_count": 4,
   "id": "d4296e20",
   "metadata": {},
   "outputs": [
    {
     "name": "stdout",
     "output_type": "stream",
     "text": [
      "2. esc + x will delete a selected cell\n"
     ]
    }
   ],
   "source": [
    "print('2. esc + x will delete a selected cell')"
   ]
  },
  {
   "cell_type": "code",
   "execution_count": 5,
   "id": "8ca0c434",
   "metadata": {},
   "outputs": [
    {
     "name": "stdout",
     "output_type": "stream",
     "text": [
      "3. esc + z will undo a deleted cell\n"
     ]
    }
   ],
   "source": [
    "print('3. esc + z will undo a deleted cell')"
   ]
  }
 ],
 "metadata": {
  "kernelspec": {
   "display_name": "Python 3 (ipykernel)",
   "language": "python",
   "name": "python3"
  },
  "language_info": {
   "codemirror_mode": {
    "name": "ipython",
    "version": 3
   },
   "file_extension": ".py",
   "mimetype": "text/x-python",
   "name": "python",
   "nbconvert_exporter": "python",
   "pygments_lexer": "ipython3",
   "version": "3.9.13"
  }
 },
 "nbformat": 4,
 "nbformat_minor": 5
}
