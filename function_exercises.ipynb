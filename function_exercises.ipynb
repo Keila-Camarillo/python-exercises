{
 "cells": [
  {
   "cell_type": "code",
   "execution_count": 10,
   "id": "048305c1",
   "metadata": {},
   "outputs": [
    {
     "name": "stdout",
     "output_type": "stream",
     "text": [
      "True\n"
     ]
    }
   ],
   "source": [
    "def is_two(str_input):\n",
    "    if str_input == 2 or str_input == '2':\n",
    "        return True\n",
    "    return False\n",
    "\n",
    "print(is_two(2.0))"
   ]
  },
  {
   "cell_type": "code",
   "execution_count": 28,
   "id": "10d7c0cb",
   "metadata": {},
   "outputs": [
    {
     "name": "stdout",
     "output_type": "stream",
     "text": [
      "True\n"
     ]
    }
   ],
   "source": [
    "vowels = 'aeiou'\n",
    "def is_vowel(str_vowel):\n",
    "    for char in str_vowel:\n",
    "        if char in vowels:\n",
    "            return True\n",
    "            continue\n",
    "    return False\n",
    "            \n",
    "    \n",
    "print(is_vowel('mabd'))"
   ]
  },
  {
   "cell_type": "code",
   "execution_count": 34,
   "id": "c1a93338",
   "metadata": {},
   "outputs": [
    {
     "name": "stdout",
     "output_type": "stream",
     "text": [
      "True\n"
     ]
    }
   ],
   "source": [
    "consonants = 'bcdfghjklmnpqrstvwxyz'\n",
    "def is_consonant(str_consonant):\n",
    "    if str_consonant.isalpha() == True:\n",
    "        for char in str_consonant:\n",
    "            if char in consonants:\n",
    "                return True\n",
    "        return False\n",
    "    \n",
    "print(is_consonant('cambodia'))\n",
    "\n"
   ]
  },
  {
   "cell_type": "code",
   "execution_count": 39,
   "id": "f84abae0",
   "metadata": {},
   "outputs": [
    {
     "name": "stdout",
     "output_type": "stream",
     "text": [
      "Hila\n"
     ]
    }
   ],
   "source": [
    "consonants = 'bcdfghjklmnpqrstvwxyz'\n",
    "def cap_consonant(word):\n",
    "    if word.isalpha() == True:\n",
    "        if word[0] in consonants:\n",
    "            return word.capitalize()\n",
    "        return 'First letter is not a consonant'\n",
    "        \n",
    "print(cap_consonant(\"keila\"))\n"
   ]
  },
  {
   "cell_type": "code",
   "execution_count": 43,
   "id": "a3772a41",
   "metadata": {},
   "outputs": [
    {
     "data": {
      "text/plain": [
       "5.6000000000000005"
      ]
     },
     "execution_count": 43,
     "metadata": {},
     "output_type": "execute_result"
    }
   ],
   "source": [
    "def calculate_tip(bill_total= 0, tip_per = .2):\n",
    "    if 0 < tip_per < 1:\n",
    "        return tip_per * bill_total\n",
    "    elif tip_per > 1:\n",
    "        total_bill = round((tip_per/100) * bill_total, 2)\n",
    "        return total_bill\n",
    "    return 'Not valid entry'\n",
    "    \n",
    "calculate_tip(20, 28)"
   ]
  },
  {
   "cell_type": "code",
   "execution_count": 140,
   "id": "68a87154",
   "metadata": {},
   "outputs": [
    {
     "data": {
      "text/plain": [
       "18.75"
      ]
     },
     "execution_count": 140,
     "metadata": {},
     "output_type": "execute_result"
    }
   ],
   "source": [
    "def apply_discount(original_price, discount_percentage):\n",
    "    if 0 < discount_percentage < 1:\n",
    "        discount_amt = discount_percentage * original_price\n",
    "        return round(original_price - discount_amt, 2) \n",
    "    elif discount_percentage > 1:\n",
    "        discount_amt = (discount_percentage/100) * original_price   \n",
    "        return round(original_price - discount_amt, 2)\n",
    "apply_discount(25,0.25)"
   ]
  },
  {
   "cell_type": "code",
   "execution_count": 47,
   "id": "e3aa669a",
   "metadata": {},
   "outputs": [
    {
     "data": {
      "text/plain": [
       "1000"
      ]
     },
     "execution_count": 47,
     "metadata": {},
     "output_type": "execute_result"
    }
   ],
   "source": [
    "import re\n",
    "def handle_commas(str_num):\n",
    "    for char in str_num:\n",
    "        if char in (','):\n",
    "            x = re.sub(\",\", \"\", str_num)\n",
    "            if x.isdigit():\n",
    "                return int(x)\n",
    "    return \"Not a valid entry\"\n",
    "\n",
    "handle_commas('1,000')\n",
    "    "
   ]
  },
  {
   "cell_type": "code",
   "execution_count": 53,
   "id": "42cd6169",
   "metadata": {},
   "outputs": [
    {
     "data": {
      "text/plain": [
       "'D'"
      ]
     },
     "execution_count": 53,
     "metadata": {},
     "output_type": "execute_result"
    }
   ],
   "source": [
    "def get_letter_grade(grade):\n",
    "    if isinstance(grade, int) or isinstance(grade, float):\n",
    "        if grade >= 88:\n",
    "            return 'A'\n",
    "        elif 87 >= grade >= 80:\n",
    "            return 'B'\n",
    "        elif 79 >= grade >= 67:\n",
    "            return 'C'\n",
    "        elif 66 >= grade >= 60:\n",
    "            return 'D'\n",
    "        else:\n",
    "            return 'F'\n",
    "    return 'Invalid entry'\n",
    "get_letter_grade(60.33)"
   ]
  },
  {
   "cell_type": "code",
   "execution_count": 59,
   "id": "38d93e24",
   "metadata": {},
   "outputs": [
    {
     "name": "stdout",
     "output_type": "stream",
     "text": [
      "jcksn\n"
     ]
    }
   ],
   "source": [
    "vowels = 'aeiouAEIOU'\n",
    "def remove_vowels(word):\n",
    "    for char in word:\n",
    "        if char in vowels:\n",
    "            strip_word = re.sub(r\"[aeiouAEIOU]\", \"\", word)\n",
    "            return strip_word\n",
    "    return 'No vowels present'\n",
    "print(remove_vowels('jacksOn'))"
   ]
  },
  {
   "cell_type": "code",
   "execution_count": 64,
   "id": "f944d74a",
   "metadata": {},
   "outputs": [
    {
     "name": "stdout",
     "output_type": "stream",
     "text": [
      "completed\n"
     ]
    }
   ],
   "source": [
    "def normalize_name(name):\n",
    "    strip_name = name.strip().lower()\n",
    "    remove_char = re.sub(r\"[!@#$%^&*)(><,./?}{\\|+=~`]\", \"\", strip_name)\n",
    "    normal_name = re.sub(r\" \", \"_\", remove_char)\n",
    "    normal_name = normal_name.strip('_')\n",
    "    return normal_name\n",
    "print(normalize_name('% Completed'))"
   ]
  },
  {
   "cell_type": "code",
   "execution_count": 80,
   "id": "a694bcdb",
   "metadata": {},
   "outputs": [
    {
     "data": {
      "text/plain": [
       "[1, 3, 6, 10]"
      ]
     },
     "execution_count": 80,
     "metadata": {},
     "output_type": "execute_result"
    }
   ],
   "source": [
    "my_list = [1,2,3,4]\n",
    "\n",
    "def cumulative_sum(ls):\n",
    "    total = 0\n",
    "    some_sums = []\n",
    "    for num in ls:\n",
    "        total = total + num\n",
    "        some_sums.append(total)\n",
    "    return some_sums\n",
    "\n",
    "cumulative_sum(my_list)\n",
    "    "
   ]
  },
  {
   "cell_type": "code",
   "execution_count": 9,
   "id": "eddda5dd",
   "metadata": {},
   "outputs": [
    {
     "ename": "ValueError",
     "evalue": "time data '1:30' does not match format '%H%M'",
     "output_type": "error",
     "traceback": [
      "\u001b[0;31m---------------------------------------------------------------------------\u001b[0m",
      "\u001b[0;31mValueError\u001b[0m                                Traceback (most recent call last)",
      "\u001b[0;32m/var/folders/bf/lhpb5n_j1xj4msxy6nrm9h7h0000gn/T/ipykernel_33838/27479372.py\u001b[0m in \u001b[0;36m<module>\u001b[0;34m\u001b[0m\n\u001b[1;32m      6\u001b[0m     \u001b[0mx\u001b[0m \u001b[0;34m=\u001b[0m \u001b[0mtime\u001b[0m\u001b[0;34m.\u001b[0m\u001b[0mstrptime\u001b[0m\u001b[0;34m(\u001b[0m\u001b[0mtime_format\u001b[0m\u001b[0;34m,\u001b[0m \u001b[0;34m'%H%M'\u001b[0m\u001b[0;34m)\u001b[0m\u001b[0;34m\u001b[0m\u001b[0;34m\u001b[0m\u001b[0m\n\u001b[1;32m      7\u001b[0m     \u001b[0;32mreturn\u001b[0m \u001b[0mx\u001b[0m\u001b[0;34m\u001b[0m\u001b[0;34m\u001b[0m\u001b[0m\n\u001b[0;32m----> 8\u001b[0;31m \u001b[0mtwelveto24\u001b[0m\u001b[0;34m(\u001b[0m\u001b[0;34m\"1:30\"\u001b[0m\u001b[0;34m)\u001b[0m\u001b[0;34m\u001b[0m\u001b[0;34m\u001b[0m\u001b[0m\n\u001b[0m",
      "\u001b[0;32m/var/folders/bf/lhpb5n_j1xj4msxy6nrm9h7h0000gn/T/ipykernel_33838/27479372.py\u001b[0m in \u001b[0;36mtwelveto24\u001b[0;34m(time_format)\u001b[0m\n\u001b[1;32m      4\u001b[0m \u001b[0;32mdef\u001b[0m \u001b[0mtwelveto24\u001b[0m\u001b[0;34m(\u001b[0m\u001b[0mtime_format\u001b[0m\u001b[0;34m)\u001b[0m\u001b[0;34m:\u001b[0m\u001b[0;34m\u001b[0m\u001b[0;34m\u001b[0m\u001b[0m\n\u001b[1;32m      5\u001b[0m     \u001b[0mremove_char\u001b[0m \u001b[0;34m=\u001b[0m \u001b[0mre\u001b[0m\u001b[0;34m.\u001b[0m\u001b[0msub\u001b[0m\u001b[0;34m(\u001b[0m\u001b[0;34mr\"[!@#$%^&*):pma(><,./?}{\\|+=~`]\"\u001b[0m\u001b[0;34m,\u001b[0m \u001b[0;34m\"\"\u001b[0m\u001b[0;34m,\u001b[0m \u001b[0mtime_format\u001b[0m\u001b[0;34m)\u001b[0m\u001b[0;34m\u001b[0m\u001b[0;34m\u001b[0m\u001b[0m\n\u001b[0;32m----> 6\u001b[0;31m     \u001b[0mx\u001b[0m \u001b[0;34m=\u001b[0m \u001b[0mtime\u001b[0m\u001b[0;34m.\u001b[0m\u001b[0mstrptime\u001b[0m\u001b[0;34m(\u001b[0m\u001b[0mtime_format\u001b[0m\u001b[0;34m,\u001b[0m \u001b[0;34m'%H%M'\u001b[0m\u001b[0;34m)\u001b[0m\u001b[0;34m\u001b[0m\u001b[0;34m\u001b[0m\u001b[0m\n\u001b[0m\u001b[1;32m      7\u001b[0m     \u001b[0;32mreturn\u001b[0m \u001b[0mx\u001b[0m\u001b[0;34m\u001b[0m\u001b[0;34m\u001b[0m\u001b[0m\n\u001b[1;32m      8\u001b[0m \u001b[0mtwelveto24\u001b[0m\u001b[0;34m(\u001b[0m\u001b[0;34m\"1:30\"\u001b[0m\u001b[0;34m)\u001b[0m\u001b[0;34m\u001b[0m\u001b[0;34m\u001b[0m\u001b[0m\n",
      "\u001b[0;32m/usr/local/anaconda3/lib/python3.9/_strptime.py\u001b[0m in \u001b[0;36m_strptime_time\u001b[0;34m(data_string, format)\u001b[0m\n\u001b[1;32m    560\u001b[0m     \"\"\"Return a time struct based on the input string and the\n\u001b[1;32m    561\u001b[0m     format string.\"\"\"\n\u001b[0;32m--> 562\u001b[0;31m     \u001b[0mtt\u001b[0m \u001b[0;34m=\u001b[0m \u001b[0m_strptime\u001b[0m\u001b[0;34m(\u001b[0m\u001b[0mdata_string\u001b[0m\u001b[0;34m,\u001b[0m \u001b[0mformat\u001b[0m\u001b[0;34m)\u001b[0m\u001b[0;34m[\u001b[0m\u001b[0;36m0\u001b[0m\u001b[0;34m]\u001b[0m\u001b[0;34m\u001b[0m\u001b[0;34m\u001b[0m\u001b[0m\n\u001b[0m\u001b[1;32m    563\u001b[0m     \u001b[0;32mreturn\u001b[0m \u001b[0mtime\u001b[0m\u001b[0;34m.\u001b[0m\u001b[0mstruct_time\u001b[0m\u001b[0;34m(\u001b[0m\u001b[0mtt\u001b[0m\u001b[0;34m[\u001b[0m\u001b[0;34m:\u001b[0m\u001b[0mtime\u001b[0m\u001b[0;34m.\u001b[0m\u001b[0m_STRUCT_TM_ITEMS\u001b[0m\u001b[0;34m]\u001b[0m\u001b[0;34m)\u001b[0m\u001b[0;34m\u001b[0m\u001b[0;34m\u001b[0m\u001b[0m\n\u001b[1;32m    564\u001b[0m \u001b[0;34m\u001b[0m\u001b[0m\n",
      "\u001b[0;32m/usr/local/anaconda3/lib/python3.9/_strptime.py\u001b[0m in \u001b[0;36m_strptime\u001b[0;34m(data_string, format)\u001b[0m\n\u001b[1;32m    347\u001b[0m     \u001b[0mfound\u001b[0m \u001b[0;34m=\u001b[0m \u001b[0mformat_regex\u001b[0m\u001b[0;34m.\u001b[0m\u001b[0mmatch\u001b[0m\u001b[0;34m(\u001b[0m\u001b[0mdata_string\u001b[0m\u001b[0;34m)\u001b[0m\u001b[0;34m\u001b[0m\u001b[0;34m\u001b[0m\u001b[0m\n\u001b[1;32m    348\u001b[0m     \u001b[0;32mif\u001b[0m \u001b[0;32mnot\u001b[0m \u001b[0mfound\u001b[0m\u001b[0;34m:\u001b[0m\u001b[0;34m\u001b[0m\u001b[0;34m\u001b[0m\u001b[0m\n\u001b[0;32m--> 349\u001b[0;31m         raise ValueError(\"time data %r does not match format %r\" %\n\u001b[0m\u001b[1;32m    350\u001b[0m                          (data_string, format))\n\u001b[1;32m    351\u001b[0m     \u001b[0;32mif\u001b[0m \u001b[0mlen\u001b[0m\u001b[0;34m(\u001b[0m\u001b[0mdata_string\u001b[0m\u001b[0;34m)\u001b[0m \u001b[0;34m!=\u001b[0m \u001b[0mfound\u001b[0m\u001b[0;34m.\u001b[0m\u001b[0mend\u001b[0m\u001b[0;34m(\u001b[0m\u001b[0;34m)\u001b[0m\u001b[0;34m:\u001b[0m\u001b[0;34m\u001b[0m\u001b[0;34m\u001b[0m\u001b[0m\n",
      "\u001b[0;31mValueError\u001b[0m: time data '1:30' does not match format '%H%M'"
     ]
    }
   ],
   "source": [
    "# bonus\n",
    "import re\n",
    "import time\n",
    "def twelveto24(time_format):\n",
    "    remove_char = re.sub(r\"[!@#$%^&*):pma(><,./?}{\\|+=~`]\", \"\", time_format)\n",
    "    x = time.strptime(time_format, '%H%M')\n",
    "    return x\n",
    "twelveto24(\"1:30\")"
   ]
  },
  {
   "cell_type": "code",
   "execution_count": null,
   "id": "8f6ca79b",
   "metadata": {},
   "outputs": [],
   "source": []
  }
 ],
 "metadata": {
  "kernelspec": {
   "display_name": "Python 3 (ipykernel)",
   "language": "python",
   "name": "python3"
  },
  "language_info": {
   "codemirror_mode": {
    "name": "ipython",
    "version": 3
   },
   "file_extension": ".py",
   "mimetype": "text/x-python",
   "name": "python",
   "nbconvert_exporter": "python",
   "pygments_lexer": "ipython3",
   "version": "3.9.13"
  }
 },
 "nbformat": 4,
 "nbformat_minor": 5
}
