{
 "cells": [
  {
   "cell_type": "code",
   "execution_count": 5,
   "id": "048305c1",
   "metadata": {},
   "outputs": [
    {
     "name": "stdout",
     "output_type": "stream",
     "text": [
      "True\n"
     ]
    }
   ],
   "source": [
    "def is_two(str_input):\n",
    "    if str_input == 2 or str_input == '2':\n",
    "        return True\n",
    "    return False\n",
    "\n",
    "print(is_two(2.0))"
   ]
  },
  {
   "cell_type": "code",
   "execution_count": 6,
   "id": "10d7c0cb",
   "metadata": {},
   "outputs": [
    {
     "name": "stdout",
     "output_type": "stream",
     "text": [
      "True\n"
     ]
    }
   ],
   "source": [
    "vowels = 'aeiou'\n",
    "def is_vowel(str_vowel):\n",
    "    for char in str_vowel:\n",
    "        if char in vowels:\n",
    "            return True\n",
    "            continue\n",
    "    return False\n",
    "            \n",
    "    \n",
    "print(is_vowel('mabd'))"
   ]
  },
  {
   "cell_type": "code",
   "execution_count": 7,
   "id": "c1a93338",
   "metadata": {},
   "outputs": [
    {
     "name": "stdout",
     "output_type": "stream",
     "text": [
      "True\n"
     ]
    }
   ],
   "source": [
    "consonants = 'bcdfghjklmnpqrstvwxyz'\n",
    "def is_consonant(str_consonant):\n",
    "    if str_consonant.isalpha() == True:\n",
    "        for char in str_consonant:\n",
    "            if char in consonants:\n",
    "                return True\n",
    "        return False\n",
    "    \n",
    "print(is_consonant('cambodia'))\n",
    "\n"
   ]
  },
  {
   "cell_type": "code",
   "execution_count": 8,
   "id": "f84abae0",
   "metadata": {},
   "outputs": [
    {
     "name": "stdout",
     "output_type": "stream",
     "text": [
      "Keila\n"
     ]
    }
   ],
   "source": [
    "consonants = 'bcdfghjklmnpqrstvwxyz'\n",
    "def cap_consonant(word):\n",
    "    if word.isalpha() == True:\n",
    "        if word[0] in consonants:\n",
    "            return word.capitalize()\n",
    "        return 'First letter is not a consonant'\n",
    "        \n",
    "print(cap_consonant(\"keila\"))\n"
   ]
  },
  {
   "cell_type": "code",
   "execution_count": 9,
   "id": "a3772a41",
   "metadata": {},
   "outputs": [
    {
     "data": {
      "text/plain": [
       "5.6"
      ]
     },
     "execution_count": 9,
     "metadata": {},
     "output_type": "execute_result"
    }
   ],
   "source": [
    "def calculate_tip(bill_total= 0, tip_per = .2):\n",
    "    if 0 < tip_per < 1:\n",
    "        return tip_per * bill_total\n",
    "    elif tip_per > 1:\n",
    "        total_bill = round((tip_per/100) * bill_total, 2)\n",
    "        return total_bill\n",
    "    return 'Not valid entry'\n",
    "    \n",
    "calculate_tip(20, 28)"
   ]
  },
  {
   "cell_type": "code",
   "execution_count": 10,
   "id": "68a87154",
   "metadata": {},
   "outputs": [
    {
     "data": {
      "text/plain": [
       "18.75"
      ]
     },
     "execution_count": 10,
     "metadata": {},
     "output_type": "execute_result"
    }
   ],
   "source": [
    "def apply_discount(original_price, discount_percentage):\n",
    "    if 0 < discount_percentage < 1:\n",
    "        discount_amt = discount_percentage * original_price\n",
    "        return round(original_price - discount_amt, 2) \n",
    "    elif discount_percentage > 1:\n",
    "        discount_amt = (discount_percentage/100) * original_price   \n",
    "        return round(original_price - discount_amt, 2)\n",
    "apply_discount(25,0.25)"
   ]
  },
  {
   "cell_type": "code",
   "execution_count": 11,
   "id": "e3aa669a",
   "metadata": {},
   "outputs": [
    {
     "data": {
      "text/plain": [
       "1000"
      ]
     },
     "execution_count": 11,
     "metadata": {},
     "output_type": "execute_result"
    }
   ],
   "source": [
    "import re\n",
    "def handle_commas(str_num):\n",
    "    for char in str_num:\n",
    "        if char in (','):\n",
    "            x = re.sub(\",\", \"\", str_num)\n",
    "            if x.isdigit():\n",
    "                return int(x)\n",
    "    return \"Not a valid entry\"\n",
    "\n",
    "handle_commas('1,000')\n",
    "    "
   ]
  },
  {
   "cell_type": "code",
   "execution_count": 12,
   "id": "42cd6169",
   "metadata": {},
   "outputs": [
    {
     "data": {
      "text/plain": [
       "'D'"
      ]
     },
     "execution_count": 12,
     "metadata": {},
     "output_type": "execute_result"
    }
   ],
   "source": [
    "def get_letter_grade(grade):\n",
    "    if isinstance(grade, int) or isinstance(grade, float):\n",
    "        if grade >= 88:\n",
    "            return 'A'\n",
    "        elif 87 >= grade >= 80:\n",
    "            return 'B'\n",
    "        elif 79 >= grade >= 67:\n",
    "            return 'C'\n",
    "        elif 66 >= grade >= 60:\n",
    "            return 'D'\n",
    "        else:\n",
    "            return 'F'\n",
    "    return 'Invalid entry'\n",
    "get_letter_grade(60.33)"
   ]
  },
  {
   "cell_type": "code",
   "execution_count": 13,
   "id": "38d93e24",
   "metadata": {},
   "outputs": [
    {
     "name": "stdout",
     "output_type": "stream",
     "text": [
      "jcksn\n"
     ]
    }
   ],
   "source": [
    "import re\n",
    "vowels = 'aeiouAEIOU'\n",
    "def remove_vowels(word):\n",
    "    for char in word:\n",
    "        if char in vowels:\n",
    "            strip_word = re.sub(r\"[aeiouAEIOU]\", \"\", word)\n",
    "            return strip_word\n",
    "    return 'No vowels present'\n",
    "print(remove_vowels('jacksOn'))"
   ]
  },
  {
   "cell_type": "code",
   "execution_count": 19,
   "id": "ce7d4d99",
   "metadata": {},
   "outputs": [
    {
     "name": "stdout",
     "output_type": "stream",
     "text": [
      "12\n"
     ]
    }
   ],
   "source": [
    "alpha_and_special = 'abcdefghijklmnopqrstuvwxyzABCDEFGHIJKLMNOPQRSTUVWXYZ,.!/?'\n",
    "def remove_alpha(word):\n",
    "    for char in word:\n",
    "        if char in alpha_and_special:\n",
    "            strip_word = re.sub(r\"[abcdefghijklmnopqrstuvwxyzABCDEFGHIJKLMNOPQRSTUVWXYZ,.!/?]\", \"\", word)\n",
    "            x = strip_word.strip()\n",
    "            return x\n",
    "    return 'No vowels present'\n",
    "print(remove_alpha('sahdhaih12c'))"
   ]
  },
  {
   "cell_type": "code",
   "execution_count": 15,
   "id": "f944d74a",
   "metadata": {},
   "outputs": [
    {
     "name": "stdout",
     "output_type": "stream",
     "text": [
      "completed\n"
     ]
    }
   ],
   "source": [
    "def normalize_name(name):\n",
    "    strip_name = name.strip().lower()\n",
    "    remove_char = re.sub(r\"[!@#$%^&*)(><,./?}{\\|+=~`]\", \"\", strip_name)\n",
    "    normal_name = re.sub(r\" \", \"_\", remove_char)\n",
    "    normal_name = normal_name.strip('_')\n",
    "    return normal_name\n",
    "print(normalize_name('% Completed'))"
   ]
  },
  {
   "cell_type": "code",
   "execution_count": 16,
   "id": "a694bcdb",
   "metadata": {},
   "outputs": [
    {
     "data": {
      "text/plain": [
       "[1, 3, 6, 10]"
      ]
     },
     "execution_count": 16,
     "metadata": {},
     "output_type": "execute_result"
    }
   ],
   "source": [
    "my_list = [1,2,3,4]\n",
    "\n",
    "def cumulative_sum(ls):\n",
    "    total = 0\n",
    "    some_sums = []\n",
    "    for num in ls:\n",
    "        total = total + num\n",
    "        some_sums.append(total)\n",
    "    return some_sums\n",
    "\n",
    "cumulative_sum(my_list)\n",
    "    "
   ]
  }
 ],
 "metadata": {
  "kernelspec": {
   "display_name": "Python 3 (ipykernel)",
   "language": "python",
   "name": "python3"
  },
  "language_info": {
   "codemirror_mode": {
    "name": "ipython",
    "version": 3
   },
   "file_extension": ".py",
   "mimetype": "text/x-python",
   "name": "python",
   "nbconvert_exporter": "python",
   "pygments_lexer": "ipython3",
   "version": "3.9.13"
  }
 },
 "nbformat": 4,
 "nbformat_minor": 5
}
