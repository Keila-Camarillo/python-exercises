{
 "cells": [
  {
   "cell_type": "code",
   "execution_count": 95,
   "id": "048305c1",
   "metadata": {},
   "outputs": [
    {
     "name": "stdout",
     "output_type": "stream",
     "text": [
      "True\n"
     ]
    }
   ],
   "source": [
    "def is_two(str_input):\n",
    "    if str_input == 2 or str_input == '2':\n",
    "        return True\n",
    "    return False\n",
    "\n",
    "print(is_two(2))"
   ]
  },
  {
   "cell_type": "code",
   "execution_count": 125,
   "id": "10d7c0cb",
   "metadata": {},
   "outputs": [
    {
     "name": "stdout",
     "output_type": "stream",
     "text": [
      "True\n"
     ]
    }
   ],
   "source": [
    "def is_vowel(str_vowel):\n",
    "    for char in str_vowel:\n",
    "        if char in ('a','e', 'i','o', 'u'):\n",
    "            return True\n",
    "            continue\n",
    "    return False\n",
    "            \n",
    "    \n",
    "print(is_vowel('mabd'))"
   ]
  },
  {
   "cell_type": "code",
   "execution_count": 126,
   "id": "c1a93338",
   "metadata": {},
   "outputs": [
    {
     "name": "stdout",
     "output_type": "stream",
     "text": [
      "True\n"
     ]
    }
   ],
   "source": [
    "def is_consonant(str_consonant):\n",
    "    for char in str_consonant:\n",
    "        if char in ('b', 'c', 'd', 'f', 'g', 'h', 'j', 'k', 'l', 'm', 'n', 'p', 'q', 'r', 's', 't', 'v', 'w', 'x', 'y', 'z'):\n",
    "            return True\n",
    "        return False\n",
    "    \n",
    "print(is_consonant('cambodia'))\n",
    "\n"
   ]
  },
  {
   "cell_type": "code",
   "execution_count": 127,
   "id": "3b524cc7",
   "metadata": {},
   "outputs": [
    {
     "name": "stdout",
     "output_type": "stream",
     "text": [
      "First letter is not a consonant\n"
     ]
    }
   ],
   "source": [
    "def cap_consonant(word):\n",
    "    if word[0] in ('b', 'c', 'd', 'f', 'g', 'h', 'j', 'k', 'l', 'm', 'n', 'p', 'q', 'r', 's', 't', 'v', 'w', 'x', 'y', 'z'):\n",
    "        return word.capitalize()\n",
    "    return 'First letter is not a consonant'\n",
    "        \n",
    "print(cap_consonant(\"aeila\"))"
   ]
  },
  {
   "cell_type": "code",
   "execution_count": 136,
   "id": "a3772a41",
   "metadata": {},
   "outputs": [
    {
     "data": {
      "text/plain": [
       "5.6"
      ]
     },
     "execution_count": 136,
     "metadata": {},
     "output_type": "execute_result"
    }
   ],
   "source": [
    "def calculate_tip(tip_per, bill_total):\n",
    "    if 0 < tip_per < 1:\n",
    "        return tip_per * bill_total\n",
    "    elif tip_per > 1:\n",
    "        total_bill = round((tip_per/100) * bill_total, 2)\n",
    "        return total_bill\n",
    "    return 'Not valid entry'\n",
    "    \n",
    "calculate_tip(20, 28)"
   ]
  },
  {
   "cell_type": "code",
   "execution_count": 140,
   "id": "68a87154",
   "metadata": {},
   "outputs": [
    {
     "data": {
      "text/plain": [
       "18.75"
      ]
     },
     "execution_count": 140,
     "metadata": {},
     "output_type": "execute_result"
    }
   ],
   "source": [
    "def apply_discount(original_price, discount_percentage):\n",
    "    if 0 < discount_percentage < 1:\n",
    "        discount_amt = discount_percentage * original_price\n",
    "        return round(original_price - discount_amt, 2) \n",
    "    elif discount_percentage > 1:\n",
    "        discount_amt = (discount_percentage/100) * original_price   \n",
    "        return round(original_price - discount_amt, 2)\n",
    "apply_discount(25,0.25)"
   ]
  },
  {
   "cell_type": "code",
   "execution_count": 143,
   "id": "e3aa669a",
   "metadata": {},
   "outputs": [
    {
     "data": {
      "text/plain": [
       "'Not a valid entry'"
      ]
     },
     "execution_count": 143,
     "metadata": {},
     "output_type": "execute_result"
    }
   ],
   "source": [
    "import re\n",
    "def handle_commas(str_num):\n",
    "    for char in str_num:\n",
    "        if char in (','):\n",
    "            x = re.sub(\",\", \"\", str_num)\n",
    "            if x.isdigit():\n",
    "                return x\n",
    "        return \"Not a valid entry\"\n",
    "\n",
    "handle_commas('k')\n",
    "    "
   ]
  },
  {
   "cell_type": "code",
   "execution_count": 146,
   "id": "42cd6169",
   "metadata": {},
   "outputs": [
    {
     "data": {
      "text/plain": [
       "'Invalid entry'"
      ]
     },
     "execution_count": 146,
     "metadata": {},
     "output_type": "execute_result"
    }
   ],
   "source": [
    "def get_letter_grade(grade):\n",
    "    if isinstance(grade, int) or isinstance(grade, float):\n",
    "        if grade >= 88:\n",
    "            return 'A'\n",
    "        elif 87 >= grade >= 80:\n",
    "            return 'B'\n",
    "        elif 79 >= grade >= 67:\n",
    "            return 'C'\n",
    "        elif 66 >= grade >= 60:\n",
    "            return 'D'\n",
    "        else:\n",
    "            return 'F'\n",
    "    return 'Invalid entry'\n",
    "get_letter_grade('k')"
   ]
  },
  {
   "cell_type": "code",
   "execution_count": 151,
   "id": "38d93e24",
   "metadata": {},
   "outputs": [
    {
     "name": "stdout",
     "output_type": "stream",
     "text": [
      "No vowels present\n"
     ]
    }
   ],
   "source": [
    "def remove_vowels(word):\n",
    "    for char in word:\n",
    "        if char in ('a','e','i','o', 'u'):\n",
    "            strip_word = re.sub(r\"[aeiou]\", \"\", word)\n",
    "            return strip_word\n",
    "    return 'No vowels present'\n",
    "print(remove_vowels('jackson'))"
   ]
  },
  {
   "cell_type": "code",
   "execution_count": 92,
   "id": "f944d74a",
   "metadata": {},
   "outputs": [
    {
     "name": "stdout",
     "output_type": "stream",
     "text": [
      "ke_ila\n"
     ]
    }
   ],
   "source": [
    "def normalize_name(name):\n",
    "    lower_name = name.lower()\n",
    "    strip_name = lower_name.strip()\n",
    "    remove_char = re.sub(r\"[!@#$%^&*)(><,./?}{\\|+=~`]\", \"\", strip_name)\n",
    "    normal_name = re.sub(r\" \", \"_\", remove_char)\n",
    "    return normal_name\n",
    "print(normalize_name('Ke ila   '))"
   ]
  },
  {
   "cell_type": "code",
   "execution_count": 154,
   "id": "a694bcdb",
   "metadata": {},
   "outputs": [
    {
     "data": {
      "text/plain": [
       "[1, 3, 6, 10]"
      ]
     },
     "execution_count": 154,
     "metadata": {},
     "output_type": "execute_result"
    }
   ],
   "source": [
    "my_list = [1,2,3,4]\n",
    "\n",
    "def cumulative_sum(a, b, c, d):\n",
    "    ls = [a, a+b, a+b+c, a+b+c+d]\n",
    "    return ls\n",
    "\n",
    "cumulative_sum(*my_list)\n",
    "    "
   ]
  },
  {
   "cell_type": "code",
   "execution_count": null,
   "id": "eddda5dd",
   "metadata": {},
   "outputs": [],
   "source": []
  }
 ],
 "metadata": {
  "kernelspec": {
   "display_name": "Python 3 (ipykernel)",
   "language": "python",
   "name": "python3"
  },
  "language_info": {
   "codemirror_mode": {
    "name": "ipython",
    "version": 3
   },
   "file_extension": ".py",
   "mimetype": "text/x-python",
   "name": "python",
   "nbconvert_exporter": "python",
   "pygments_lexer": "ipython3",
   "version": "3.9.13"
  }
 },
 "nbformat": 4,
 "nbformat_minor": 5
}
