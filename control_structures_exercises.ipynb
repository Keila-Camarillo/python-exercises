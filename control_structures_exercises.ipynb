{
 "cells": [
  {
   "cell_type": "markdown",
   "id": "9263c0ed",
   "metadata": {},
   "source": [
    "1. Conditional Basics\n",
    "\n",
    "Prompt the user for a day of the week, print out whether the day is Monday or not\n",
    "\n",
    "Prompt the user for a day of the week, print out whether the day is a weekday or a weekend\n",
    "\n",
    "Calculate a weekly paycheck, accounting for overtime pay. Create variables and make up values for:\n",
    "\n",
    "The number of hours worked in one week\n",
    "The hourly rate\n",
    "For calculating pay:\n",
    "\n",
    "For working 40 hours or less, each hour is paid at the hourly rate\n",
    "For working more than 40 hours\n",
    "\n",
    "the first 40 hours are paid at the hourly rate\n",
    "\n",
    "each hour after 40 is paid at time and a half (hourly rate * 1.5)"
   ]
  },
  {
   "cell_type": "code",
   "execution_count": 124,
   "id": "adc403e8",
   "metadata": {},
   "outputs": [
    {
     "name": "stdout",
     "output_type": "stream",
     "text": [
      "give me the day of the week: Monday\n",
      "It is Monday\n"
     ]
    }
   ],
   "source": [
    "user = input('give me the day of the week: ')\n",
    "\n",
    "if user.lower() == 'monday':\n",
    "    print('It is Monday')\n",
    "elif user.lower() == 'saturday' or user == 'sunday':\n",
    "    print(\"It's the weekend\")\n",
    "else:\n",
    "    print(\"I don't know what day it is\")\n",
    "    "
   ]
  },
  {
   "cell_type": "code",
   "execution_count": 125,
   "id": "248d225f",
   "metadata": {},
   "outputs": [
    {
     "name": "stdout",
     "output_type": "stream",
     "text": [
      "give me the day of the week: Monday\n",
      "today is monday\n"
     ]
    }
   ],
   "source": [
    "# review\n",
    "day = input('give me the day of the week: ')\n",
    "\n",
    "if day.lower() == 'monday':\n",
    "    print('today is monday')\n",
    "else:\n",
    "    print('today is not monday')\n",
    "    \n",
    "\n",
    "weekend = ['saturday', 'sunday']\n",
    "\n",
    "if day.lower() in  weekend:\n",
    "    print('this is the weekend')"
   ]
  },
  {
   "cell_type": "code",
   "execution_count": 135,
   "id": "9249f20d",
   "metadata": {},
   "outputs": [
    {
     "name": "stdout",
     "output_type": "stream",
     "text": [
      "3750.0\n"
     ]
    }
   ],
   "source": [
    "num_of_hrs = 50\n",
    "hr_rate = 50\n",
    "cal_pay = num_of_hrs * hr_rate\n",
    "\n",
    "if num_of_hrs <= 40:\n",
    "    print(cal_pay)\n",
    "else:\n",
    "    print(num_of_hrs * (hr_rate* 1.5))"
   ]
  },
  {
   "cell_type": "code",
   "execution_count": 130,
   "id": "98f2a2e3",
   "metadata": {},
   "outputs": [
    {
     "data": {
      "text/plain": [
       "415.0"
      ]
     },
     "execution_count": 130,
     "metadata": {},
     "output_type": "execute_result"
    }
   ],
   "source": [
    "# review\n",
    "hours_weekly = 41\n",
    "hourly_rate = 10\n",
    "\n",
    "if hours_weekly <= 40:\n",
    "    paycheck = hours_weekly * hourly_rate\n",
    "else:\n",
    "    ot_hours = hours_weekly - 40\n",
    "    paycheck = (hourly_rate * 40) + (ot_hours * hourly_rate * 1.5)\n",
    "paycheck"
   ]
  },
  {
   "cell_type": "markdown",
   "id": "2ed42a8d",
   "metadata": {},
   "source": [
    "2. Loop Basics\n",
    "\n",
    "While\n",
    "\n",
    "Create an integer variable i with a value of 5. Create a while loop that runs so long as i is less than or equal to 15. Each loop iteration, output the current value of i, then increment i by one.\n",
    "\n",
    "Create a while loop that will count by 2's starting with 0 and ending at 100. Follow each number with a new line.\n",
    "\n",
    "Create a while loop that starts at 2, and displays the number squared on each line while the number is less than 1,000,000. Output should equal:\n",
    "\n",
    "Write a while loop that uses print to create the output shown below."
   ]
  },
  {
   "cell_type": "code",
   "execution_count": 9,
   "id": "ede6cc4f",
   "metadata": {},
   "outputs": [
    {
     "name": "stdout",
     "output_type": "stream",
     "text": [
      "5\n",
      "6\n",
      "7\n",
      "8\n",
      "9\n",
      "10\n",
      "11\n",
      "12\n",
      "13\n",
      "14\n",
      "15\n"
     ]
    }
   ],
   "source": [
    "i = 5\n",
    "\n",
    "while i <= 15:\n",
    "    print(i)\n",
    "    i = i + 1\n",
    "    "
   ]
  },
  {
   "cell_type": "code",
   "execution_count": 131,
   "id": "04fb8211",
   "metadata": {},
   "outputs": [
    {
     "name": "stdout",
     "output_type": "stream",
     "text": [
      "5\n",
      "6\n",
      "7\n",
      "8\n",
      "9\n",
      "10\n",
      "11\n",
      "12\n",
      "13\n",
      "14\n",
      "15\n"
     ]
    }
   ],
   "source": [
    "# review\n",
    "i = 5\n",
    "while i <= 15:\n",
    "    print(i)\n",
    "    i += 1"
   ]
  },
  {
   "cell_type": "code",
   "execution_count": 137,
   "id": "e8b56b9c",
   "metadata": {},
   "outputs": [
    {
     "name": "stdout",
     "output_type": "stream",
     "text": [
      "0\n",
      "2\n",
      "4\n",
      "6\n",
      "8\n",
      "10\n",
      "12\n",
      "14\n",
      "16\n",
      "18\n",
      "20\n",
      "22\n",
      "24\n",
      "26\n",
      "28\n",
      "30\n",
      "32\n",
      "34\n",
      "36\n",
      "38\n",
      "40\n",
      "42\n",
      "44\n",
      "46\n",
      "48\n",
      "50\n",
      "52\n",
      "54\n",
      "56\n",
      "58\n",
      "60\n",
      "62\n",
      "64\n",
      "66\n",
      "68\n",
      "70\n",
      "72\n",
      "74\n",
      "76\n",
      "78\n",
      "80\n",
      "82\n",
      "84\n",
      "86\n",
      "88\n",
      "90\n",
      "92\n",
      "94\n",
      "96\n",
      "98\n",
      "100\n"
     ]
    }
   ],
   "source": [
    "i = 0\n",
    "while i <= 100:\n",
    "    print(i)\n",
    "    i += 2"
   ]
  },
  {
   "cell_type": "code",
   "execution_count": 10,
   "id": "c8e0cad0",
   "metadata": {},
   "outputs": [
    {
     "name": "stdout",
     "output_type": "stream",
     "text": [
      "0\n",
      "2\n",
      "4\n",
      "6\n",
      "8\n",
      "10\n",
      "12\n",
      "14\n",
      "16\n",
      "18\n",
      "20\n",
      "22\n",
      "24\n",
      "26\n",
      "28\n",
      "30\n",
      "32\n",
      "34\n",
      "36\n",
      "38\n",
      "40\n",
      "42\n",
      "44\n",
      "46\n",
      "48\n",
      "50\n",
      "52\n",
      "54\n",
      "56\n",
      "58\n",
      "60\n",
      "62\n",
      "64\n",
      "66\n",
      "68\n",
      "70\n",
      "72\n",
      "74\n",
      "76\n",
      "78\n",
      "80\n",
      "82\n",
      "84\n",
      "86\n",
      "88\n",
      "90\n",
      "92\n",
      "94\n",
      "96\n",
      "98\n",
      "100\n"
     ]
    }
   ],
   "source": [
    "# review\n",
    "i = 0\n",
    "\n",
    "while i <= 100:\n",
    "    print(i)\n",
    "    i = i + 2\n",
    "    "
   ]
  },
  {
   "cell_type": "code",
   "execution_count": 12,
   "id": "12fcd6d9",
   "metadata": {},
   "outputs": [
    {
     "name": "stdout",
     "output_type": "stream",
     "text": [
      "2\n",
      "4\n",
      "16\n",
      "256\n",
      "65536\n"
     ]
    }
   ],
   "source": [
    "i = 2\n",
    "\n",
    "while i <= 1000000:\n",
    "    print(i)\n",
    "    i = i ** 2"
   ]
  },
  {
   "cell_type": "code",
   "execution_count": 140,
   "id": "db3e9f64",
   "metadata": {},
   "outputs": [
    {
     "name": "stdout",
     "output_type": "stream",
     "text": [
      "2\n",
      "4\n",
      "16\n",
      "256\n",
      "65536\n"
     ]
    }
   ],
   "source": [
    "# review\n",
    "i = 2\n",
    "while i <= 1000000:\n",
    "    print(i)\n",
    "    i **= 2\n"
   ]
  },
  {
   "cell_type": "code",
   "execution_count": 142,
   "id": "109d3c04",
   "metadata": {},
   "outputs": [
    {
     "name": "stdout",
     "output_type": "stream",
     "text": [
      "100\n",
      "95\n",
      "90\n",
      "85\n",
      "80\n",
      "75\n",
      "70\n",
      "65\n",
      "60\n",
      "55\n",
      "50\n",
      "45\n",
      "40\n",
      "35\n",
      "30\n",
      "25\n",
      "20\n",
      "15\n",
      "10\n",
      "5\n"
     ]
    }
   ],
   "source": [
    "i = 100 \n",
    "\n",
    "while i >= 5:\n",
    "    print(i)\n",
    "    i -= 5"
   ]
  },
  {
   "cell_type": "markdown",
   "id": "02597c7f",
   "metadata": {},
   "source": [
    "For Loops\n",
    "\n",
    "Write some code using a for loop that prompts the user for a number, then shows a multiplication table up through 10 for that number.\n",
    "\n",
    "For example, if the user enters 7, your program should output:"
   ]
  },
  {
   "cell_type": "code",
   "execution_count": 152,
   "id": "7eab30a5",
   "metadata": {},
   "outputs": [
    {
     "name": "stdout",
     "output_type": "stream",
     "text": [
      "enter a number: 4\n",
      "1 x 4 = 4\n",
      "2 x 4 = 8\n",
      "3 x 4 = 12\n",
      "4 x 4 = 16\n",
      "5 x 4 = 20\n",
      "6 x 4 = 24\n",
      "7 x 4 = 28\n",
      "8 x 4 = 32\n",
      "9 x 4 = 36\n",
      "10 x 4 = 40\n"
     ]
    }
   ],
   "source": [
    "numb = int(input('enter a number: '))\n",
    "\n",
    "\n",
    "for i in range(1,11):\n",
    "    print(f'{i} x {numb} = {i*numb}')"
   ]
  },
  {
   "cell_type": "code",
   "execution_count": 154,
   "id": "3bd7c1d7",
   "metadata": {},
   "outputs": [
    {
     "name": "stdout",
     "output_type": "stream",
     "text": [
      "enter a number: 7\n",
      "7\n",
      "14\n",
      "21\n",
      "28\n",
      "35\n",
      "42\n",
      "49\n",
      "56\n",
      "63\n",
      "70\n"
     ]
    }
   ],
   "source": [
    "multiple_of_10 = [1, 2, 3, 4, 5, 6, 7, 8, 9, 10]\n",
    "numb2 = int(input('enter a number: '))\n",
    "\n",
    "for num in multiple_of_10:\n",
    "    print(numb2 * num)"
   ]
  },
  {
   "cell_type": "markdown",
   "id": "b448ed4f",
   "metadata": {},
   "source": [
    "Create a for loop that uses print to create the output shown below\n",
    "1\n",
    "22\n",
    "333\n",
    "4444\n",
    "55555\n",
    "666666\n",
    "7777777\n",
    "88888888\n",
    "999999999"
   ]
  },
  {
   "cell_type": "code",
   "execution_count": 159,
   "id": "30d35546",
   "metadata": {},
   "outputs": [
    {
     "name": "stdout",
     "output_type": "stream",
     "text": [
      "1\n",
      "22\n",
      "333\n",
      "4444\n",
      "55555\n",
      "666666\n",
      "7777777\n",
      "88888888\n",
      "999999999\n"
     ]
    }
   ],
   "source": [
    "for i in range(1,10):\n",
    "    print(i*str(i))"
   ]
  },
  {
   "cell_type": "code",
   "execution_count": 160,
   "id": "73ca1c87",
   "metadata": {},
   "outputs": [
    {
     "name": "stdout",
     "output_type": "stream",
     "text": [
      "1\n",
      "22\n",
      "333\n",
      "4444\n",
      "55555\n",
      "666666\n",
      "7777777\n",
      "88888888\n",
      "999999999\n"
     ]
    }
   ],
   "source": [
    "pyrmd_of_num = [1, 2, 3, 4, 5, 6, 7, 8, 9]\n",
    "\n",
    "for num in pyrmd_of_num:\n",
    "    print(num * str(num))\n",
    "\n",
    "    \n",
    "   "
   ]
  },
  {
   "cell_type": "markdown",
   "id": "6168b573",
   "metadata": {},
   "source": [
    "break and continue\n",
    "\n",
    "Write a program that prompts the user for a positive integer. Next write a loop that prints out the numbers from the number the user entered down to 1.\n",
    "\n",
    "The input function can be used to prompt for input and use that input in your python code. Prompt the user to enter a positive number and write a loop that counts from 0 to that number. (Hints: note that the input function returns a string, so you'll need to convert this to a numeric type.)\n",
    "\n",
    "Prompt the user for an odd number between 1 and 50. Use a loop and a break statement to continue prompting the user if they enter invalid input. (Hint: use the isdigit method on strings to determine this). Use a loop and the continue statement to output all the odd numbers between 1 and 50, except for the number the user entered.\n"
   ]
  },
  {
   "cell_type": "code",
   "execution_count": 167,
   "id": "114ed488",
   "metadata": {},
   "outputs": [
    {
     "name": "stdout",
     "output_type": "stream",
     "text": [
      "enter a positive integer: 8\n",
      "8\n",
      "7\n",
      "6\n",
      "5\n",
      "4\n",
      "3\n",
      "2\n",
      "1\n"
     ]
    }
   ],
   "source": [
    "num = int(input('enter a positive integer: '))\n",
    "\n",
    "for i in range(num, 0, -1):\n",
    "    print(i)"
   ]
  },
  {
   "cell_type": "code",
   "execution_count": 170,
   "id": "9a65a25a",
   "metadata": {},
   "outputs": [
    {
     "name": "stdout",
     "output_type": "stream",
     "text": [
      "enter a positive integer: 2\n",
      "2\n",
      "1\n",
      "0\n"
     ]
    }
   ],
   "source": [
    "pos_num = int(input('enter a positive integer: '))\n",
    "\n",
    "for num1 in reversed(range(pos_num + 1)):\n",
    "    \n",
    "    print(num1)"
   ]
  },
  {
   "cell_type": "code",
   "execution_count": null,
   "id": "6dd283a4",
   "metadata": {},
   "outputs": [],
   "source": [
    "######\n",
    "pos_num2 = int(input('enter a positive integer: '))\n",
    "\n",
    "for i in range(pos_num2 * 2):\n",
    "    "
   ]
  },
  {
   "cell_type": "code",
   "execution_count": 177,
   "id": "368be774",
   "metadata": {},
   "outputs": [
    {
     "name": "stdout",
     "output_type": "stream",
     "text": [
      "enter a odd number between 1 and 50: 41\n",
      "1\n",
      "3\n",
      "5\n",
      "7\n",
      "9\n",
      "11\n",
      "13\n",
      "15\n",
      "17\n",
      "19\n",
      "21\n",
      "23\n",
      "25\n",
      "27\n",
      "29\n",
      "31\n",
      "33\n",
      "35\n",
      "37\n",
      "39\n",
      "skip this number: 41\n",
      "43\n",
      "45\n",
      "47\n",
      "49\n"
     ]
    }
   ],
   "source": [
    "\n",
    "while True:\n",
    "    numb = input('enter a odd number between 1 and 50: ')\n",
    "    if numb.isdigit() == False:\n",
    "        print('invalid entry')\n",
    "        continue\n",
    "    numb = int(numb)\n",
    "    \n",
    "    if numb % 2 == 0:\n",
    "        print('invalid entry. This is an even number')\n",
    "        continue\n",
    "        \n",
    "    if numb < 1 or numb > 50:\n",
    "        print('invalid entry. This is out of range')\n",
    "        continue\n",
    "    break\n",
    "for i in range(1, 51, 2):\n",
    "    if i == numb:\n",
    "        print(f'skip this number: {numb}')\n",
    "        continue\n",
    "    print(i)"
   ]
  },
  {
   "cell_type": "code",
   "execution_count": 15,
   "id": "2ef1b8b9",
   "metadata": {},
   "outputs": [
    {
     "name": "stdout",
     "output_type": "stream",
     "text": [
      "Give me a odd number that's in between 1 and 50: 20\n",
      "1\n",
      "3\n",
      "5\n",
      "7\n",
      "9\n",
      "11\n",
      "13\n",
      "15\n",
      "17\n",
      "19\n",
      "21\n",
      "23\n",
      "25\n",
      "27\n",
      "29\n",
      "31\n",
      "33\n",
      "35\n",
      "37\n",
      "39\n",
      "41\n",
      "43\n",
      "45\n",
      "47\n",
      "49\n"
     ]
    }
   ],
   "source": [
    "n = int(input(\"Give me a odd number that's in between 1 and 50: \"))\n",
    "\n",
    "\n",
    "for num1 in range(50 + 1):\n",
    "    if num1 == n:\n",
    "        continue\n",
    "    if num1 % 2 != 0:\n",
    "        print(num1)\n"
   ]
  },
  {
   "cell_type": "markdown",
   "id": "a0ef6e1b",
   "metadata": {},
   "source": [
    "Fizzbuzz\n",
    "\n",
    "One of the most common interview questions for entry-level programmers is the FizzBuzz test. Developed by Imran Ghory, the test is designed to test basic looping and conditional logic skills.\n",
    "\n",
    "Write a program that prints the numbers from 1 to 100.\n",
    "For multiples of three print \"Fizz\" instead of the number\n",
    "For the multiples of five print \"Buzz\".\n",
    "For numbers which are multiples of both three and five print \"FizzBuzz\"."
   ]
  },
  {
   "cell_type": "code",
   "execution_count": 44,
   "id": "2e863935",
   "metadata": {},
   "outputs": [
    {
     "name": "stdout",
     "output_type": "stream",
     "text": [
      "1\n",
      "2\n",
      "Fizz\n",
      "4\n",
      "Buzz\n",
      "Fizz\n",
      "7\n",
      "8\n",
      "Fizz\n",
      "Buzz\n",
      "11\n",
      "Fizz\n",
      "13\n",
      "14\n",
      "FizzBuzz\n",
      "16\n",
      "17\n",
      "Fizz\n",
      "19\n",
      "Buzz\n",
      "Fizz\n",
      "22\n",
      "23\n",
      "Fizz\n",
      "Buzz\n",
      "26\n",
      "Fizz\n",
      "28\n",
      "29\n",
      "FizzBuzz\n",
      "31\n",
      "32\n",
      "Fizz\n",
      "34\n",
      "Buzz\n",
      "Fizz\n",
      "37\n",
      "38\n",
      "Fizz\n",
      "Buzz\n",
      "41\n",
      "Fizz\n",
      "43\n",
      "44\n",
      "FizzBuzz\n",
      "46\n",
      "47\n",
      "Fizz\n",
      "49\n",
      "Buzz\n",
      "Fizz\n",
      "52\n",
      "53\n",
      "Fizz\n",
      "Buzz\n",
      "56\n",
      "Fizz\n",
      "58\n",
      "59\n",
      "FizzBuzz\n",
      "61\n",
      "62\n",
      "Fizz\n",
      "64\n",
      "Buzz\n",
      "Fizz\n",
      "67\n",
      "68\n",
      "Fizz\n",
      "Buzz\n",
      "71\n",
      "Fizz\n",
      "73\n",
      "74\n",
      "FizzBuzz\n",
      "76\n",
      "77\n",
      "Fizz\n",
      "79\n",
      "Buzz\n",
      "Fizz\n",
      "82\n",
      "83\n",
      "Fizz\n",
      "Buzz\n",
      "86\n",
      "Fizz\n",
      "88\n",
      "89\n",
      "FizzBuzz\n",
      "91\n",
      "92\n",
      "Fizz\n",
      "94\n",
      "Buzz\n",
      "Fizz\n",
      "97\n",
      "98\n",
      "Fizz\n",
      "Buzz\n"
     ]
    }
   ],
   "source": [
    "one_to_100_list = list(range(1, 101))\n",
    "\n",
    "for num in one_to_100_list:\n",
    "    \n",
    "    if num % 5 == 0 and num % 3 == 0:\n",
    "        print('FizzBuzz')\n",
    "        continue\n",
    "    elif num % 3 == 0:\n",
    "        print('Fizz')\n",
    "        continue\n",
    "    elif num % 5 == 0 :\n",
    "        print('Buzz')\n",
    "        continue\n",
    "    print(num)"
   ]
  },
  {
   "cell_type": "markdown",
   "id": "ffecc6e1",
   "metadata": {},
   "source": [
    "Display a table of powers.\n",
    "\n",
    "Prompt the user to enter an integer\n",
    "Display a table of squares and cubes from 1 to the value entered\n",
    "Ask if the user wants to continue\n",
    "Assume that the user will enter valid data\n",
    "Only continue if the user agrees to"
   ]
  },
  {
   "cell_type": "code",
   "execution_count": 108,
   "id": "1b6438be",
   "metadata": {},
   "outputs": [
    {
     "name": "stdout",
     "output_type": "stream",
     "text": [
      "What number would you like to go up to?: 5\n",
      "[1, 1, 1, 2, 4, 8, 3, 9, 27, 4, 16, 64, 5, 25, 125]\n",
      "[[1, 1, 1], [2, 4, 8], [3, 9, 27], [4, 16, 64], [5, 25, 125]]\n",
      "+-----+-----+-----+\n",
      "|   0 |   1 |   2 |\n",
      "|-----+-----+-----|\n",
      "|   1 |   1 |   1 |\n",
      "|   2 |   4 |   8 |\n",
      "|   3 |   9 |  27 |\n",
      "|   4 |  16 |  64 |\n",
      "|   5 |  25 | 125 |\n",
      "+-----+-----+-----+\n"
     ]
    }
   ],
   "source": [
    "from tabulate import tabulate\n",
    "from itertools import islice\n",
    "num_given = int(input(\"What number would you like to go up to?: \"))\n",
    "num_sq_cube = []\n",
    "\n",
    "for num in range(1, num_given + 1):\n",
    "    num_sq_cube.append(num) \n",
    "    num_sq_cube.append(num ** 2)\n",
    "    num_sq_cube.append(num ** 3)\n",
    "print(num_sq_cube)\n",
    "\n",
    "\n",
    "len_to_split = [3, 3, 3, 3, 3 ]\n",
    "inputt = iter(num_sq_cube)\n",
    "new_lst_splt = [list(islice(inputt, elem))\n",
    "         for elem in len_to_split]\n",
    "\n",
    "print(output)\n",
    "\n",
    "print(pdtabulate(new_lst_splt))\n",
    "\n",
    "\n",
    "# headers = ['number', 'squared', 'cubed'],\n"
   ]
  },
  {
   "cell_type": "markdown",
   "id": "332aff88",
   "metadata": {},
   "source": [
    "Convert given number grades into letter grades.\n",
    "\n",
    "Prompt the user for a numerical grade from 0 to 100\n",
    "Display the corresponding letter grade\n",
    "Prompt the user to continue\n",
    "Assume that the user will enter valid integers for the grades\n",
    "The application should only continue if the user agrees to\n",
    "Grade Ranges:\n",
    "\n",
    "A : 100 - 88\n",
    "B : 87 - 80\n",
    "C : 79 - 67\n",
    "D : 66 - 60\n",
    "F : 59 - 0"
   ]
  },
  {
   "cell_type": "code",
   "execution_count": 17,
   "id": "645f1976",
   "metadata": {},
   "outputs": [
    {
     "name": "stdout",
     "output_type": "stream",
     "text": [
      "Give me your number grade from 0 - 100: 50\n",
      "F\n"
     ]
    }
   ],
   "source": [
    "num_grade = int(input(\"Give me your number grade from 0 - 100: \"))\n",
    "\n",
    "if num_grade >= 88:\n",
    "    print('A')\n",
    "elif num_grade >= 80 and num_grade <= 87 :\n",
    "    print('B')\n",
    "elif num_grade >= 67 and num_grade <= 79 :\n",
    "    print('C')\n",
    "elif num_grade >= 60 and num_grade <= 66 :\n",
    "    print('D')\n",
    "else:\n",
    "    print('F')"
   ]
  },
  {
   "cell_type": "markdown",
   "id": "cec482be",
   "metadata": {},
   "source": [
    "Create a list of dictionaries where each dictionary represents a book that you have read. Each dictionary in the list should have the keys title, author, and genre. Loop through the list and print out information about each book.\n",
    "\n",
    "Prompt the user to enter a genre, then loop through your books list and print out the titles of all the books in that genre."
   ]
  },
  {
   "cell_type": "code",
   "execution_count": 86,
   "id": "0c0da5f4",
   "metadata": {},
   "outputs": [
    {
     "name": "stdout",
     "output_type": "stream",
     "text": [
      "[{'title': 'The Night Circus', 'author': 'Erin Morgenstern', 'genre': 'Fantasy'}, {'title': 'Not Nice', 'author': 'Aziz Gazipura', 'genre': 'Self help'}, {'title': 'Gift of Fear', 'author': 'Gavin Debecker', 'genre': 'Self help'}]\n",
      "The Night Circus Erin Morgenstern Fantasy\n",
      "Not Nice Aziz Gazipura Self help\n",
      "Gift of Fear Gavin Debecker Self help\n",
      "Give me a genre: Fantasy\n",
      "The Night Circus\n"
     ]
    }
   ],
   "source": [
    "books_read = []\n",
    "book_1 = {'title' : 'The Night Circus', 'author': 'Erin Morgenstern', 'genre': 'Fantasy' }\n",
    "book_2 = {'title': 'Not Nice', 'author': 'Aziz Gazipura', 'genre': 'Self help'}\n",
    "book_3 = {'title': 'Gift of Fear', 'author': 'Gavin Debecker', 'genre': 'Self help'}\n",
    "\n",
    "books_read.append(book_1)\n",
    "books_read.append(book_2)\n",
    "books_read.append(book_3)\n",
    "\n",
    "print(books_read)\n",
    "\n",
    "for book in books_read:\n",
    "    title = book['title']\n",
    "    author = str(book['author'])\n",
    "    genre = book['genre']\n",
    "    \n",
    "    print(title + ' ' + author + ' ' + genre)\n",
    "\n",
    "\n",
    "select_genre = input(\"Give me a genre: \")\n",
    "#if any(book['genre'] == select_genre for book in books_read):\n",
    " #   print(books_read.get('genre'))\n",
    "    \n",
    "for book in books_read:\n",
    "    if select_genre == book['genre']:\n",
    "        print(book['title'])\n",
    "        \n",
    "            \n",
    "\n"
   ]
  },
  {
   "cell_type": "code",
   "execution_count": null,
   "id": "c0dca8df",
   "metadata": {},
   "outputs": [],
   "source": []
  }
 ],
 "metadata": {
  "kernelspec": {
   "display_name": "Python 3 (ipykernel)",
   "language": "python",
   "name": "python3"
  },
  "language_info": {
   "codemirror_mode": {
    "name": "ipython",
    "version": 3
   },
   "file_extension": ".py",
   "mimetype": "text/x-python",
   "name": "python",
   "nbconvert_exporter": "python",
   "pygments_lexer": "ipython3",
   "version": "3.9.13"
  }
 },
 "nbformat": 4,
 "nbformat_minor": 5
}
