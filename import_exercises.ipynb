{
 "cells": [
  {
   "cell_type": "markdown",
   "id": "b1162c95",
   "metadata": {},
   "source": [
    "1. Import and test 3 of the functions from your functions exercise file. Import each function in a different way:"
   ]
  },
  {
   "cell_type": "markdown",
   "id": "63cac6c6",
   "metadata": {},
   "source": [
    "A. Run an interactive python session and import the module. Call the is_vowel function using the . syntax."
   ]
  },
  {
   "cell_type": "code",
   "execution_count": 6,
   "id": "50da9c6c",
   "metadata": {},
   "outputs": [
    {
     "data": {
      "text/plain": [
       "True"
      ]
     },
     "execution_count": 6,
     "metadata": {},
     "output_type": "execute_result"
    }
   ],
   "source": [
    "import function_exercises as fe\n",
    "\n",
    "fe.is_vowel('Keila')"
   ]
  },
  {
   "cell_type": "markdown",
   "id": "ada6b128",
   "metadata": {},
   "source": [
    "B. Create a file named import_exericses.py. Within this file, use from to import the calculate_tip function directly. Call this function with values you choose and print the result."
   ]
  },
  {
   "cell_type": "code",
   "execution_count": 7,
   "id": "f00ded15",
   "metadata": {},
   "outputs": [
    {
     "name": "stdout",
     "output_type": "stream",
     "text": [
      "5.0\n"
     ]
    }
   ],
   "source": [
    "print(fe.calculate_tip(25,20))"
   ]
  },
  {
   "cell_type": "markdown",
   "id": "325d8ad9",
   "metadata": {},
   "source": [
    "C. Create a jupyter notebook named import_exercises.ipynb. Use from to import the get_letter_grade function and give it an alias. Test this function in your notebook."
   ]
  },
  {
   "cell_type": "code",
   "execution_count": 8,
   "id": "41d498a1",
   "metadata": {},
   "outputs": [
    {
     "data": {
      "text/plain": [
       "'A'"
      ]
     },
     "execution_count": 8,
     "metadata": {},
     "output_type": "execute_result"
    }
   ],
   "source": [
    "from function_exercises import get_letter_grade as lg\n",
    "\n",
    "lg(88)"
   ]
  },
  {
   "cell_type": "markdown",
   "id": "ef17e757",
   "metadata": {},
   "source": [
    "2. Read about and use the itertools module from the python standard library to help you solve the following problems (Hint: wrap the itertools results in a list to see the results).\n",
    "\n",
    "How many different ways can you combine a single letter from \"abc\" with either 1, 2, or 3?\n",
    "How many different combinations are there of 2 letters from \"abcd\"?\n",
    "How many different permutations are there of 2 letters from \"abcd\"?\n"
   ]
  },
  {
   "cell_type": "code",
   "execution_count": 9,
   "id": "88c13717",
   "metadata": {},
   "outputs": [
    {
     "name": "stdout",
     "output_type": "stream",
     "text": [
      "There are 18 combinations of 'abc' and '123'\n",
      "There are 6 combinations of 'abcd'\n",
      "There are 12 combinations of 'abcd'\n"
     ]
    }
   ],
   "source": [
    "import itertools as it\n",
    "print('There are ' + str(len(list(it.combinations('a123', 2))) + len(list(it.combinations('b123', 2))) + len(list(it.combinations('c123', 2)))) + \" combinations of 'abc' and '123'\" )\n",
    "print('There are ' + str(len(list(it.combinations('abcd', 2)))) + \" combinations of 'abcd'\" )\n",
    "print('There are ' + str(len(list(it.permutations('abcd', 2)))) + \" combinations of 'abcd'\" )\n",
    "\n",
    "\n",
    "# you can use it.combinations, it.pairwise 6 combinations for 'abcd 12 permutations for 'abcd'"
   ]
  },
  {
   "cell_type": "markdown",
   "id": "dc5fe90e",
   "metadata": {},
   "source": [
    "Your code should produce a list of dictionaries. Using this data, write some code that calculates and outputs the following information:\n",
    "\n",
    "- Total number of users\n",
    "- Number of active users\n",
    "- Number of inactive users\n",
    "- Grand total of balances for all users\n",
    "- Average balance per user\n",
    "- User with the lowest balance\n",
    "- User with the highest balance\n",
    "- Most common favorite fruit\n",
    "- Least most common favorite fruit\n",
    "- Total number of unread messages for all users"
   ]
  },
  {
   "cell_type": "code",
   "execution_count": 22,
   "id": "2cb8505e",
   "metadata": {},
   "outputs": [],
   "source": [
    "import json\n",
    "\n",
    "json_list = json.load(open('profiles.json'))\n"
   ]
  },
  {
   "cell_type": "code",
   "execution_count": 54,
   "id": "c076e7d2",
   "metadata": {},
   "outputs": [
    {
     "name": "stdout",
     "output_type": "stream",
     "text": [
      "19\n",
      "['Hebert Estes', 'Allison Wynn', 'Jacobs Floyd', 'Fay Hammond', 'Chasity Marsh', 'Camacho Cortez', 'Avery Flynn', 'Michael Cash', 'Madeleine Bray', 'Corine French', 'Trudy Cummings', 'Peggy Mayer', 'Chan Hurley', 'Diaz Pena', 'Heath Castaneda', 'Greer Blankenship', 'Coffey Hayes', 'Leanne Hurst', 'Ewing Larson']\n"
     ]
    }
   ],
   "source": [
    "# counting the number of names in the json list\n",
    "import json \n",
    "import function_exercises\n",
    "\n",
    "json_list = json.load(open('profiles.json'))\n",
    "\n",
    "user_count = 0\n",
    "for user in json_list:\n",
    "    names_list = []\n",
    "    names_list.append(user['name'])\n",
    "    user_count += 1\n",
    "print(user_count)\n"
   ]
  },
  {
   "cell_type": "code",
   "execution_count": 12,
   "id": "a7e0cb9a",
   "metadata": {},
   "outputs": [
    {
     "name": "stdout",
     "output_type": "stream",
     "text": [
      "9\n"
     ]
    }
   ],
   "source": [
    "# counting the number of active accounts in the json list\n",
    "import json\n",
    "import function_exercises\n",
    "\n",
    "json_list = json.load(open('profiles.json'))\n",
    "\n",
    "\n",
    "active_accounts = 0\n",
    "for user in json_list:\n",
    "    if user['isActive'] == True:\n",
    "         active_accounts += 1\n",
    "\n",
    "    \n",
    "print(active_accounts)"
   ]
  },
  {
   "cell_type": "code",
   "execution_count": 13,
   "id": "67ca34e2",
   "metadata": {},
   "outputs": [
    {
     "name": "stdout",
     "output_type": "stream",
     "text": [
      "10\n"
     ]
    }
   ],
   "source": [
    "# counting the number of non-active accounts in the json list\n",
    "import json\n",
    "\n",
    "json_list = json.load(open('profiles.json'))\n",
    "\n",
    "\n",
    "not_active_accounts = 0\n",
    "for user in json_list:\n",
    "    if user['isActive'] != True:\n",
    "         not_active_accounts += 1\n",
    "\n",
    "    \n",
    "print(not_active_accounts)"
   ]
  },
  {
   "cell_type": "code",
   "execution_count": 14,
   "id": "18a360a4",
   "metadata": {},
   "outputs": [
    {
     "name": "stdout",
     "output_type": "stream",
     "text": [
      "52667.02\n"
     ]
    }
   ],
   "source": [
    "# Grand total of balances for all users\n",
    "import json\n",
    "import function_exercises as fe\n",
    "json_list = json.load(open('profiles.json'))\n",
    "\n",
    "balance_list = []\n",
    "for user in json_list:\n",
    "    balance_list.append(float(fe.normalize_name(user['balance'])))\n",
    "\n",
    "total_balance = 0\n",
    "for num in balance_list:\n",
    "    total_balance += num\n",
    "\n",
    "print(total_balance)"
   ]
  },
  {
   "cell_type": "code",
   "execution_count": 16,
   "id": "9a9dd427",
   "metadata": {},
   "outputs": [
    {
     "name": "stdout",
     "output_type": "stream",
     "text": [
      "2771.95\n"
     ]
    }
   ],
   "source": [
    "# Average balance per user\n",
    "\n",
    "avg_balance = round(total_balance/ user_count, 2)\n",
    "print(avg_balance)"
   ]
  },
  {
   "cell_type": "code",
   "execution_count": 21,
   "id": "7db5d382",
   "metadata": {},
   "outputs": [
    {
     "name": "stdout",
     "output_type": "stream",
     "text": [
      "1214.1\n",
      "Avery Flynn\n"
     ]
    }
   ],
   "source": [
    "# User with the lowest balance\n",
    "import json\n",
    "import function_exercises as fe\n",
    "json_list = json.load(open('profiles.json'))\n",
    "\n",
    "balance_list = []\n",
    "\n",
    "for user in json_list:\n",
    "    balance_list.append(float(fe.normalize_name(user['balance'])))    \n",
    "    \n",
    "print(min(balance_list))\n",
    "\n",
    "min_balance_index = balance_list.index(min(balance_list))\n",
    "\n",
    "print(names_list[min_balance_index])"
   ]
  },
  {
   "cell_type": "code",
   "execution_count": 20,
   "id": "79861afa",
   "metadata": {},
   "outputs": [
    {
     "name": "stdout",
     "output_type": "stream",
     "text": [
      "3919.64\n",
      "Fay Hammond\n"
     ]
    }
   ],
   "source": [
    "# User with the highest balance\n",
    "import json\n",
    "import function_exercises as fe\n",
    "json_list = json.load(open('profiles.json'))\n",
    "\n",
    "\n",
    "balance_list = []\n",
    "\n",
    "for user in json_list:\n",
    "    balance_list.append(float(fe.normalize_name(user['balance'])))    \n",
    "    \n",
    "print(max(balance_list))\n",
    "\n",
    "max_balance_index = balance_list.index(max(balance_list))\n",
    "\n",
    "print(names_list[max_balance_index])"
   ]
  },
  {
   "cell_type": "code",
   "execution_count": 16,
   "id": "1cb7b8df",
   "metadata": {},
   "outputs": [
    {
     "name": "stdout",
     "output_type": "stream",
     "text": [
      "Banana is the least favorite fruit\n"
     ]
    }
   ],
   "source": [
    "# Least most common favorite fruit\n",
    "import json\n",
    "import function_exercises as fe\n",
    "json_list = json.load(open('profiles.json'))\n",
    "\n",
    "\n",
    "fruit_list = []\n",
    "\n",
    "for user in json_list:\n",
    "    fruit_list.append(user['favoriteFruit'])\n",
    "    \n",
    "    \n",
    "strawberry_count = fruit_list.count('strawberry')\n",
    "apple_count = fruit_list.count('apple')\n",
    "banana_count= fruit_list.count('banana')\n",
    "\n",
    "if strawberry_count < apple_count and strawberry_count < banana_count:\n",
    "    print('Strawberry is the least favorite fruit')\n",
    "elif apple_count < strawberry_count and apple_count < banana_count:\n",
    "    print('Apple is the least favorite fruit')\n",
    "else:\n",
    "    print('Banana is the least favorite fruit')"
   ]
  },
  {
   "cell_type": "code",
   "execution_count": 15,
   "id": "30f9a2b8",
   "metadata": {},
   "outputs": [
    {
     "name": "stdout",
     "output_type": "stream",
     "text": [
      "Strawberry is the most common favorite fruit\n"
     ]
    }
   ],
   "source": [
    "# Most common favorite fruit\n",
    "import json\n",
    "import function_exercises as fe\n",
    "json_list = json.load(open('profiles.json'))\n",
    "\n",
    "\n",
    "fruit_list = []\n",
    "\n",
    "for user in json_list:\n",
    "    fruit_list.append(user['favoriteFruit'])\n",
    "    \n",
    "    \n",
    "strawberry_count = fruit_list.count('strawberry')\n",
    "apple_count = fruit_list.count('apple')\n",
    "banana_count= fruit_list.count('banana')\n",
    "\n",
    "if strawberry_count > (apple_count and banana_count):\n",
    "    print('Strawberry is the most common favorite fruit')\n",
    "elif apple_count > (strawberry_count and banana_count):\n",
    "    print('Apple is the most common favorite fruit')\n",
    "else:\n",
    "    print('Banana is the most common favorite fruit')\n"
   ]
  },
  {
   "cell_type": "code",
   "execution_count": 14,
   "id": "677e22d5",
   "metadata": {},
   "outputs": [
    {
     "name": "stdout",
     "output_type": "stream",
     "text": [
      "Total number of unread messages: 210\n"
     ]
    }
   ],
   "source": [
    "# Total number of unread messages for all users\n",
    "import function_exercises as fe\n",
    "import json\n",
    "\n",
    "json_list = json.load(open('profiles.json'))\n",
    "\n",
    "greeting_list = []\n",
    "for user in json_list:\n",
    "    greeting_list.append(int(fe.remove_alpha(user['greeting'])))\n",
    "    \n",
    "print('Total number of unread messages: ' + str(sum(greeting_list)))"
   ]
  }
 ],
 "metadata": {
  "kernelspec": {
   "display_name": "Python 3 (ipykernel)",
   "language": "python",
   "name": "python3"
  },
  "language_info": {
   "codemirror_mode": {
    "name": "ipython",
    "version": 3
   },
   "file_extension": ".py",
   "mimetype": "text/x-python",
   "name": "python",
   "nbconvert_exporter": "python",
   "pygments_lexer": "ipython3",
   "version": "3.9.13"
  }
 },
 "nbformat": 4,
 "nbformat_minor": 5
}
